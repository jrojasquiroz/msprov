{
 "cells": [
  {
   "cell_type": "code",
   "execution_count": 1,
   "id": "3d9cb7f7",
   "metadata": {},
   "outputs": [],
   "source": [
    "import pandas as pd\n",
    "import geopandas as gpd\n",
    "import numpy as np"
   ]
  },
  {
   "cell_type": "code",
   "execution_count": 2,
   "id": "96b0c555",
   "metadata": {},
   "outputs": [],
   "source": [
    "#1. En R ya hemos obtenido el df que calcula Población urbana provincial y Fallecidos provinciales\n",
    "#para cada uno de los 1824 distritos del país (se excluyen a los de Lima Metropolitana)\n",
    "df=pd.read_csv(\"data/8-analisis3_v2.csv\")\n",
    "gdf=gpd.read_file(\"rawdata/LimitesDistritales_18S_.gpkg\")"
   ]
  },
  {
   "cell_type": "code",
   "execution_count": 3,
   "id": "4fd5c064",
   "metadata": {},
   "outputs": [
    {
     "data": {
      "text/plain": [
       "['Unnamed: 0', 'UBIGEO', 'IDPROV', 'PUPROV', 'PDPROV', 'MDPROV']"
      ]
     },
     "execution_count": 3,
     "metadata": {},
     "output_type": "execute_result"
    }
   ],
   "source": [
    "list(df.columns.values)"
   ]
  },
  {
   "cell_type": "code",
   "execution_count": 4,
   "id": "31cce7f4",
   "metadata": {},
   "outputs": [
    {
     "data": {
      "text/plain": [
       "['CCDD',\n",
       " 'NOMBDEP',\n",
       " 'CCPP',\n",
       " 'NOMBPROV',\n",
       " 'CCDI',\n",
       " 'NOMBDIST',\n",
       " 'CAPITAL',\n",
       " 'UBIGEO',\n",
       " 'IDPROV',\n",
       " 'CODIGO',\n",
       " 'CNT_CCPP',\n",
       " 'DESCRIPCIO',\n",
       " 'AUrb_2015',\n",
       " 'AUrb_90',\n",
       " 'AreaAdmin',\n",
       " 'CODUBIGEO',\n",
       " 'Pob_2017',\n",
       " 'geometry']"
      ]
     },
     "execution_count": 4,
     "metadata": {},
     "output_type": "execute_result"
    }
   ],
   "source": [
    "list(gdf.columns.values)"
   ]
  },
  {
   "cell_type": "code",
   "execution_count": 5,
   "id": "e765d7db",
   "metadata": {},
   "outputs": [
    {
     "data": {
      "text/plain": [
       "['CCDD',\n",
       " 'NOMBDEP',\n",
       " 'CCPP',\n",
       " 'NOMBPROV',\n",
       " 'CCDI',\n",
       " 'NOMBDIST',\n",
       " 'CAPITAL',\n",
       " 'IDPROV',\n",
       " 'CODIGO',\n",
       " 'CNT_CCPP',\n",
       " 'DESCRIPCIO',\n",
       " 'CODUBIGEO',\n",
       " 'Pob_2017',\n",
       " 'geometry']"
      ]
     },
     "execution_count": 5,
     "metadata": {},
     "output_type": "execute_result"
    }
   ],
   "source": [
    "gdf.drop(['AUrb_2015','AUrb_90','AreaAdmin','UBIGEO'], axis=1, inplace=True)\n",
    "list(gdf.columns.values)"
   ]
  },
  {
   "cell_type": "code",
   "execution_count": 6,
   "id": "2761cda2",
   "metadata": {},
   "outputs": [
    {
     "data": {
      "text/plain": [
       "['CODUBIGEO', 'PUPROV', 'PDPROV', 'MDPROV']"
      ]
     },
     "execution_count": 6,
     "metadata": {},
     "output_type": "execute_result"
    }
   ],
   "source": [
    "df.drop(['Unnamed: 0','IDPROV'],axis=1,inplace=True)\n",
    "df.rename(columns={'UBIGEO':'CODUBIGEO'},inplace=True)\n",
    "\n",
    "list(df.columns.values)"
   ]
  },
  {
   "cell_type": "code",
   "execution_count": 7,
   "id": "b7585e01",
   "metadata": {},
   "outputs": [
    {
     "data": {
      "text/html": [
       "<div>\n",
       "<style scoped>\n",
       "    .dataframe tbody tr th:only-of-type {\n",
       "        vertical-align: middle;\n",
       "    }\n",
       "\n",
       "    .dataframe tbody tr th {\n",
       "        vertical-align: top;\n",
       "    }\n",
       "\n",
       "    .dataframe thead th {\n",
       "        text-align: right;\n",
       "    }\n",
       "</style>\n",
       "<table border=\"1\" class=\"dataframe\">\n",
       "  <thead>\n",
       "    <tr style=\"text-align: right;\">\n",
       "      <th></th>\n",
       "      <th>CCDD</th>\n",
       "      <th>NOMBDEP</th>\n",
       "      <th>CCPP</th>\n",
       "      <th>NOMBPROV</th>\n",
       "      <th>CCDI</th>\n",
       "      <th>NOMBDIST</th>\n",
       "      <th>CAPITAL</th>\n",
       "      <th>IDPROV</th>\n",
       "      <th>CODIGO</th>\n",
       "      <th>CNT_CCPP</th>\n",
       "      <th>DESCRIPCIO</th>\n",
       "      <th>CODUBIGEO</th>\n",
       "      <th>Pob_2017</th>\n",
       "      <th>geometry</th>\n",
       "      <th>PUPROV</th>\n",
       "      <th>PDPROV</th>\n",
       "      <th>MDPROV</th>\n",
       "    </tr>\n",
       "  </thead>\n",
       "  <tbody>\n",
       "    <tr>\n",
       "      <th>0</th>\n",
       "      <td>06</td>\n",
       "      <td>CAJAMARCA</td>\n",
       "      <td>05</td>\n",
       "      <td>CONTUMAZA</td>\n",
       "      <td>04</td>\n",
       "      <td>GUZMANGO</td>\n",
       "      <td>GUZMANGO</td>\n",
       "      <td>0605</td>\n",
       "      <td>060504</td>\n",
       "      <td>50</td>\n",
       "      <td>GUZMANGO</td>\n",
       "      <td>60504</td>\n",
       "      <td>2679</td>\n",
       "      <td>MULTIPOLYGON (((67472.523 9188896.095, 67703.1...</td>\n",
       "      <td>0.0</td>\n",
       "      <td>0.096739</td>\n",
       "      <td>0.011236</td>\n",
       "    </tr>\n",
       "    <tr>\n",
       "      <th>1</th>\n",
       "      <td>06</td>\n",
       "      <td>CAJAMARCA</td>\n",
       "      <td>11</td>\n",
       "      <td>SAN MIGUEL</td>\n",
       "      <td>05</td>\n",
       "      <td>EL PRADO</td>\n",
       "      <td>EL PRADO</td>\n",
       "      <td>0611</td>\n",
       "      <td>061105</td>\n",
       "      <td>15</td>\n",
       "      <td>EL PRADO</td>\n",
       "      <td>61105</td>\n",
       "      <td>1627</td>\n",
       "      <td>MULTIPOLYGON (((55956.760 9227736.976, 56065.3...</td>\n",
       "      <td>0.0</td>\n",
       "      <td>0.035337</td>\n",
       "      <td>0.049505</td>\n",
       "    </tr>\n",
       "    <tr>\n",
       "      <th>2</th>\n",
       "      <td>06</td>\n",
       "      <td>CAJAMARCA</td>\n",
       "      <td>11</td>\n",
       "      <td>SAN MIGUEL</td>\n",
       "      <td>09</td>\n",
       "      <td>NIEPOS</td>\n",
       "      <td>NIEPOS</td>\n",
       "      <td>0611</td>\n",
       "      <td>061109</td>\n",
       "      <td>41</td>\n",
       "      <td>NIEPOS</td>\n",
       "      <td>61109</td>\n",
       "      <td>3293</td>\n",
       "      <td>MULTIPOLYGON (((33680.121 9240593.910, 33807.7...</td>\n",
       "      <td>0.0</td>\n",
       "      <td>0.071520</td>\n",
       "      <td>0.069307</td>\n",
       "    </tr>\n",
       "    <tr>\n",
       "      <th>3</th>\n",
       "      <td>06</td>\n",
       "      <td>CAJAMARCA</td>\n",
       "      <td>11</td>\n",
       "      <td>SAN MIGUEL</td>\n",
       "      <td>10</td>\n",
       "      <td>SAN GREGORIO</td>\n",
       "      <td>SAN GREGORIO</td>\n",
       "      <td>0611</td>\n",
       "      <td>061110</td>\n",
       "      <td>48</td>\n",
       "      <td>SAN GREGORIO</td>\n",
       "      <td>61110</td>\n",
       "      <td>2229</td>\n",
       "      <td>MULTIPOLYGON (((48734.447 9223686.596, 48947.5...</td>\n",
       "      <td>0.0</td>\n",
       "      <td>0.048411</td>\n",
       "      <td>0.059406</td>\n",
       "    </tr>\n",
       "    <tr>\n",
       "      <th>4</th>\n",
       "      <td>06</td>\n",
       "      <td>CAJAMARCA</td>\n",
       "      <td>12</td>\n",
       "      <td>SAN PABLO</td>\n",
       "      <td>03</td>\n",
       "      <td>SAN LUIS</td>\n",
       "      <td>SAN LUIS GRANDE</td>\n",
       "      <td>0612</td>\n",
       "      <td>061203</td>\n",
       "      <td>9</td>\n",
       "      <td>SAN LUIS</td>\n",
       "      <td>61203</td>\n",
       "      <td>958</td>\n",
       "      <td>MULTIPOLYGON (((71636.777 9213684.088, 71805.5...</td>\n",
       "      <td>0.0</td>\n",
       "      <td>0.045399</td>\n",
       "      <td>0.078431</td>\n",
       "    </tr>\n",
       "  </tbody>\n",
       "</table>\n",
       "</div>"
      ],
      "text/plain": [
       "  CCDD    NOMBDEP CCPP    NOMBPROV CCDI      NOMBDIST          CAPITAL IDPROV  \\\n",
       "0   06  CAJAMARCA   05   CONTUMAZA   04      GUZMANGO         GUZMANGO   0605   \n",
       "1   06  CAJAMARCA   11  SAN MIGUEL   05      EL PRADO         EL PRADO   0611   \n",
       "2   06  CAJAMARCA   11  SAN MIGUEL   09        NIEPOS           NIEPOS   0611   \n",
       "3   06  CAJAMARCA   11  SAN MIGUEL   10  SAN GREGORIO     SAN GREGORIO   0611   \n",
       "4   06  CAJAMARCA   12   SAN PABLO   03      SAN LUIS  SAN LUIS GRANDE   0612   \n",
       "\n",
       "   CODIGO  CNT_CCPP    DESCRIPCIO  CODUBIGEO  Pob_2017  \\\n",
       "0  060504        50      GUZMANGO      60504      2679   \n",
       "1  061105        15      EL PRADO      61105      1627   \n",
       "2  061109        41        NIEPOS      61109      3293   \n",
       "3  061110        48  SAN GREGORIO      61110      2229   \n",
       "4  061203         9      SAN LUIS      61203       958   \n",
       "\n",
       "                                            geometry  PUPROV    PDPROV  \\\n",
       "0  MULTIPOLYGON (((67472.523 9188896.095, 67703.1...     0.0  0.096739   \n",
       "1  MULTIPOLYGON (((55956.760 9227736.976, 56065.3...     0.0  0.035337   \n",
       "2  MULTIPOLYGON (((33680.121 9240593.910, 33807.7...     0.0  0.071520   \n",
       "3  MULTIPOLYGON (((48734.447 9223686.596, 48947.5...     0.0  0.048411   \n",
       "4  MULTIPOLYGON (((71636.777 9213684.088, 71805.5...     0.0  0.045399   \n",
       "\n",
       "     MDPROV  \n",
       "0  0.011236  \n",
       "1  0.049505  \n",
       "2  0.069307  \n",
       "3  0.059406  \n",
       "4  0.078431  "
      ]
     },
     "execution_count": 7,
     "metadata": {},
     "output_type": "execute_result"
    }
   ],
   "source": [
    "gdf_n=gpd.GeoDataFrame(gdf.merge(df,on='CODUBIGEO'))\n",
    "gdf_n.head()"
   ]
  },
  {
   "cell_type": "code",
   "execution_count": 8,
   "id": "4f2380a6",
   "metadata": {},
   "outputs": [],
   "source": [
    "gdf_n.to_file(\"data/8-analisis3_v2.geojson\", driver='GeoJSON')"
   ]
  }
 ],
 "metadata": {
  "kernelspec": {
   "display_name": "Python 3",
   "language": "python",
   "name": "python3"
  },
  "language_info": {
   "codemirror_mode": {
    "name": "ipython",
    "version": 3
   },
   "file_extension": ".py",
   "mimetype": "text/x-python",
   "name": "python",
   "nbconvert_exporter": "python",
   "pygments_lexer": "ipython3",
   "version": "3.9.1"
  }
 },
 "nbformat": 4,
 "nbformat_minor": 5
}
