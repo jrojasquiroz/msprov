{
 "cells": [
  {
   "cell_type": "markdown",
   "id": "2162bc18",
   "metadata": {},
   "source": [
    "# ¿Es confiable la información de GeoGPS Perú?"
   ]
  },
  {
   "cell_type": "markdown",
   "id": "391c140d",
   "metadata": {},
   "source": [
    "#### Introducción\n",
    "Hago este cuaderno porque aunque GeoGPS Perú me brinde información de todas las manzanas del país no es una fuente oficial.\n",
    "\n",
    "INEI sí lo es, pero como podrán apreciar más adelante, no brinda datos sobre población para todas las manzanas de las *ciudades principales*, sino solo para un 56% de estas. \n",
    "\n",
    "Entonces, mi intención es comparar los datos de este 56% por ciento que INEI me brinda con los que GeoGPS tiene. Lo que espero es que la información de población para cada una de estas manzanas coincida entre INEI y GeoGPS Perú."
   ]
  },
  {
   "cell_type": "markdown",
   "id": "9597a92f",
   "metadata": {},
   "source": [
    "#### Metodología\n",
    "Lo primero que haremos será importar el gdf que INEI me envió por correo para recalcular sus IDs de Manzanas.\n",
    "\n",
    "Por defecto en este gdf hay un ID de Manzana conformado por *UBIGEO + CODZONA + SUFZONA + CODMZNA SUFMZNA + COD_MANZANA*, pero cuando uno descarga datos de INEI a nivel manzana, los ID de Manzanas tienen la siguiente forma: *UBIGEO + **CODCCPP** + CODZONA + SUFZONA + CODMZNA SUFMZNA + COD_MANZANA*.\n",
    "\n",
    "Por tanto, recalcularemos ese ID de Manzana, ya que el gdf como podrán ver tiene info por separado de cada uno de los componentes. \n",
    "\n",
    "Una vez hecho eso, se hará un match entre este gdf con la información descargada directamente desde INEI. Luego, se podrá comparar con lo que GeoGPS brinda."
   ]
  },
  {
   "cell_type": "code",
   "execution_count": null,
   "id": "9af6b58f",
   "metadata": {},
   "outputs": [],
   "source": [
    "import os\n",
    "oschdir(\"G:/Mi unidad/Documentos personales/Muertes Covid-19 por Áreas urbanas - Perú/1-Cálculos previos con límites INEI\")\n",
    "import pandas as pd\n",
    "import geopandas as gpd\n",
    "import numpy as np\n",
    "\n",
    "#1.Lo único que hare en esta parte será importar el archivo y añadirle un ID a cada manzana.\n",
    "#El resultado de esto lo trabajaré en R para obtener un df que tenga ID e ID-Manzana corregida que luego\n",
    "#se pueda juntar a este original.\n",
    "gdf=gpd.read_file(\"rawdata/Mz_PrincipalesCiudades.shp\") #archivo original enviado por INEI\n",
    "gdf.head()"
   ]
  },
  {
   "cell_type": "code",
   "execution_count": null,
   "id": "37c6eacd",
   "metadata": {},
   "outputs": [],
   "source": [
    "gdf['ID']=gdf.index #le añado un ID para luego poder hacer el match\n",
    "gdf.head()"
   ]
  },
  {
   "cell_type": "code",
   "execution_count": null,
   "id": "b752622f",
   "metadata": {},
   "outputs": [],
   "source": [
    "#2.Exporto para trabajar en R.\n",
    "gdf.to_csv(\"P1-INEI vs GeoGPS-Peru/P1-data/1-Mz_PrincipalesCiudades.csv\") #exporto para poder trabajar en R"
   ]
  },
  {
   "cell_type": "code",
   "execution_count": null,
   "id": "acf0768f",
   "metadata": {},
   "outputs": [],
   "source": [
    "#3.Después de haberlo trabajado en R('P1-1-Corrigiendo ID de manzanas.R'), importo el df que quería.\n",
    "ids=pd.read_csv(\"P1-INEI vs GeoGPS-Peru/P1-data/2-CodigoManzanasOficial.csv\")\n",
    "ids=ids.drop(\"Unnamed: 0\",axis=1)\n",
    "ids.head()"
   ]
  },
  {
   "cell_type": "code",
   "execution_count": null,
   "id": "8ebf6b2f",
   "metadata": {},
   "outputs": [],
   "source": [
    "#4. Hago el match\n",
    "gdf_nuevo = gpd.GeoDataFrame(gdf.merge(ids, on='ID', how='left')) \n",
    "gdf_nuevo.head()\n",
    "#Como pueden ver, lo único que obtengo es el gdf original con un ID de Manzana que ahora sí podrá\n",
    "#coincidir con el que INEI te da cuando descargas datos del Censo 2017."
   ]
  },
  {
   "cell_type": "code",
   "execution_count": null,
   "id": "2c1b6110",
   "metadata": {},
   "outputs": [],
   "source": [
    "#5.Importo el df con datos de población a nivel de manzana descargado de INEI\n",
    "#(Pre-procesado en 'P1-2-Pob x Manzana INEI.R')\n",
    "mzpob=pd.read_csv(\"P1-INEI vs GeoGPS-Peru/P1-data/3-PobMz_INEI_OK.csv\") #Este es el archivo que obtengo luego de procesar el original\n",
    "                                              #en R\n",
    "mzpob=mzpob.drop(\"Unnamed: 0\",axis=1)\n",
    "mzpob.rename(columns={'Poblaci�n':'Poblacion'}, \n",
    "               inplace=True)\n",
    "gdf_final = gpd.GeoDataFrame(gdf_nuevo.merge(mzpob, on='Mz', how='left'))\n",
    "gdf_final=gdf_final[['ID','Mz','Poblacion']]\n",
    "gdf_final.head()"
   ]
  },
  {
   "cell_type": "code",
   "execution_count": null,
   "id": "06b19e4b",
   "metadata": {},
   "outputs": [],
   "source": [
    "#6.Exporto para poder comparar luego con el de GeoGPS Perú\n",
    "gdf_final.to_csv(\"P1-INEI vs GeoGPS-Peru/P1-data/4-Mzs-Poblacion-Oficial-INEI.csv\")\n",
    "gdf_final.to_file(\"P1-INEI vs GeoGPS-Peru/P1-data/4-Mzs-Poblacion-Oficial-INEI.geojson\",\n",
    "                  driver='GeoJSON') #por si quiero revisar manualmente en QGIS\n",
    "\n",
    "len(gdf_final) #174362"
   ]
  },
  {
   "cell_type": "code",
   "execution_count": null,
   "id": "b8c156f5",
   "metadata": {},
   "outputs": [],
   "source": [
    "#7.Ahora, los datos de GeoGPS Perú están en un gdf. Así que primero lo importo\n",
    "gdf2=gpd.read_file('rawdata/PeruEnManzanas_INEI2017_GC_18S.gpkg')\n",
    "#8.Y ahora lo exporto para poder compararlo como csv en R.\n",
    "gdf2.to_csv(\"P1-INEI vs GeoGPS-Peru/P1-data/5-PobJuanSuyo.csv\")"
   ]
  },
  {
   "cell_type": "code",
   "execution_count": null,
   "id": "d14db7c9",
   "metadata": {},
   "outputs": [],
   "source": [
    "#9.El análisis final se encuentra en 'P1-3-Comparacion GEOGPS vs INEI.R'\n",
    "#El resultado es que de 98486 manzanas de las que se tiene informacion oficial de INEI, 984392 tienen la \n",
    "#misma informacion en GeoGPS-Peru. Esto representa el 99.99045%."
   ]
  }
 ],
 "metadata": {
  "kernelspec": {
   "display_name": "Python 3",
   "language": "python",
   "name": "python3"
  },
  "language_info": {
   "codemirror_mode": {
    "name": "ipython",
    "version": 3
   },
   "file_extension": ".py",
   "mimetype": "text/x-python",
   "name": "python",
   "nbconvert_exporter": "python",
   "pygments_lexer": "ipython3",
   "version": "3.9.1"
  }
 },
 "nbformat": 4,
 "nbformat_minor": 5
}
