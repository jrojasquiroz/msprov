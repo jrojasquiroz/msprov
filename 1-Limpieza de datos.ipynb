{
 "cells": [
  {
   "cell_type": "markdown",
   "id": "173ca422",
   "metadata": {},
   "source": [
    "# Limpieza de datos y cálculos previos"
   ]
  },
  {
   "cell_type": "markdown",
   "id": "bc322284",
   "metadata": {},
   "source": [
    "#### ¿Qué hacemos en este cuaderno?\n",
    "Ordenar la información en bruto que INEI envió por correo. Esta corresponde principalmente a límites de las *ciudades principales*. \n",
    "Lo que haremos es calcular la población de cada parte de los polígonos urbanos de las *ciudades principales*.\n",
    "\n",
    "#### ¿Qué procedimiento seguimos?\n",
    "Básicamente, intersecciones entre distritos y polígonos urbanos.\n",
    "\n",
    "#### ¿Qué datos obtenemos?\n",
    "1. Un gdf que tiene solo las manchas urbanas repartidas por distritos (*ciudades_interseccion.gpkg*). Aquí si nos interesa su geometría.\n",
    "2. Un gdf que tiene partidas las manchas urbanas por distritos y la población que la conforma (*ciudades_pob.geojson*). No nos interesa su geometría, sino sus datos."
   ]
  },
  {
   "cell_type": "code",
   "execution_count": 1,
   "id": "c09b3982",
   "metadata": {},
   "outputs": [],
   "source": [
    "import geopandas as gpd\n",
    "import pandas as pd\n",
    "import numpy as np"
   ]
  },
  {
   "cell_type": "markdown",
   "id": "8fe39485-3270-4237-b035-411d5f4f330c",
   "metadata": {},
   "source": [
    "El primer paso será realizar una intersección entre los polígonos urbanos y los distritos para saber cómo están distribuidos."
   ]
  },
  {
   "cell_type": "code",
   "execution_count": 2,
   "id": "eb0716a8-312c-437d-bd9a-3a61c2f31e55",
   "metadata": {},
   "outputs": [],
   "source": [
    "pu=gpd.read_file('C:/Users/rojas/OneDrive/OneDrive - EduCorpPERU/Datos/vectores/base/Manzanas Perú (INEI)/pu-principalesciudades-og_WGS84.gpkg') \n",
    "dist=gpd.read_file('C:/Users/rojas/OneDrive/OneDrive - EduCorpPERU/Datos/vectores/base/lim-dist_WGS84.gpkg')\n",
    "\n",
    "pu=pu.to_crs('EPSG:3857') #Pseudo-Mercator\n",
    "dist=dist.to_crs('EPSG:3857')"
   ]
  },
  {
   "cell_type": "code",
   "execution_count": 3,
   "id": "b5f19d6a-6e76-404c-a30a-7caaff5a5dae",
   "metadata": {},
   "outputs": [],
   "source": [
    "inter=pu.overlay(dist, how='intersection')\n",
    "inter=inter[['CIUDAD','NOMBDIST','CODUBIGEO','IDPROV','NOMBPROV','geometry']] #Nos quedamos solo con las columnas que nos interesan\n",
    "inter['ID'] = inter.index + 1 "
   ]
  },
  {
   "cell_type": "code",
   "execution_count": 4,
   "id": "7985a01f-7182-47b3-90b6-3d33d9e94ec5",
   "metadata": {},
   "outputs": [
    {
     "data": {
      "text/html": [
       "<div>\n",
       "<style scoped>\n",
       "    .dataframe tbody tr th:only-of-type {\n",
       "        vertical-align: middle;\n",
       "    }\n",
       "\n",
       "    .dataframe tbody tr th {\n",
       "        vertical-align: top;\n",
       "    }\n",
       "\n",
       "    .dataframe thead th {\n",
       "        text-align: right;\n",
       "    }\n",
       "</style>\n",
       "<table border=\"1\" class=\"dataframe\">\n",
       "  <thead>\n",
       "    <tr style=\"text-align: right;\">\n",
       "      <th></th>\n",
       "      <th>CIUDAD</th>\n",
       "      <th>NOMBDIST</th>\n",
       "      <th>CODUBIGEO</th>\n",
       "      <th>IDPROV</th>\n",
       "      <th>NOMBPROV</th>\n",
       "      <th>geometry</th>\n",
       "      <th>ID</th>\n",
       "    </tr>\n",
       "  </thead>\n",
       "  <tbody>\n",
       "    <tr>\n",
       "      <th>0</th>\n",
       "      <td>ABANCAY</td>\n",
       "      <td>TAMBURCO</td>\n",
       "      <td>30109</td>\n",
       "      <td>0301</td>\n",
       "      <td>ABANCAY</td>\n",
       "      <td>MULTIPOLYGON (((-8112020.618 -1529196.326, -81...</td>\n",
       "      <td>1</td>\n",
       "    </tr>\n",
       "    <tr>\n",
       "      <th>1</th>\n",
       "      <td>ABANCAY</td>\n",
       "      <td>ABANCAY</td>\n",
       "      <td>30101</td>\n",
       "      <td>0301</td>\n",
       "      <td>ABANCAY</td>\n",
       "      <td>MULTIPOLYGON (((-8112178.097 -1531791.118, -81...</td>\n",
       "      <td>2</td>\n",
       "    </tr>\n",
       "    <tr>\n",
       "      <th>2</th>\n",
       "      <td>ANDAHUAYLAS</td>\n",
       "      <td>TALAVERA</td>\n",
       "      <td>30216</td>\n",
       "      <td>0302</td>\n",
       "      <td>ANDAHUAYLAS</td>\n",
       "      <td>POLYGON ((-8176551.463 -1532941.437, -8176530....</td>\n",
       "      <td>3</td>\n",
       "    </tr>\n",
       "    <tr>\n",
       "      <th>3</th>\n",
       "      <td>ANDAHUAYLAS</td>\n",
       "      <td>SAN JERONIMO</td>\n",
       "      <td>30213</td>\n",
       "      <td>0302</td>\n",
       "      <td>ANDAHUAYLAS</td>\n",
       "      <td>POLYGON ((-8167720.999 -1534466.258, -8167729....</td>\n",
       "      <td>4</td>\n",
       "    </tr>\n",
       "    <tr>\n",
       "      <th>4</th>\n",
       "      <td>ANDAHUAYLAS</td>\n",
       "      <td>ANDAHUAYLAS</td>\n",
       "      <td>30201</td>\n",
       "      <td>0302</td>\n",
       "      <td>ANDAHUAYLAS</td>\n",
       "      <td>MULTIPOLYGON (((-8172249.289 -1534344.842, -81...</td>\n",
       "      <td>5</td>\n",
       "    </tr>\n",
       "  </tbody>\n",
       "</table>\n",
       "</div>"
      ],
      "text/plain": [
       "        CIUDAD      NOMBDIST  CODUBIGEO IDPROV     NOMBPROV  \\\n",
       "0      ABANCAY      TAMBURCO      30109   0301      ABANCAY   \n",
       "1      ABANCAY       ABANCAY      30101   0301      ABANCAY   \n",
       "2  ANDAHUAYLAS      TALAVERA      30216   0302  ANDAHUAYLAS   \n",
       "3  ANDAHUAYLAS  SAN JERONIMO      30213   0302  ANDAHUAYLAS   \n",
       "4  ANDAHUAYLAS   ANDAHUAYLAS      30201   0302  ANDAHUAYLAS   \n",
       "\n",
       "                                            geometry  ID  \n",
       "0  MULTIPOLYGON (((-8112020.618 -1529196.326, -81...   1  \n",
       "1  MULTIPOLYGON (((-8112178.097 -1531791.118, -81...   2  \n",
       "2  POLYGON ((-8176551.463 -1532941.437, -8176530....   3  \n",
       "3  POLYGON ((-8167720.999 -1534466.258, -8167729....   4  \n",
       "4  MULTIPOLYGON (((-8172249.289 -1534344.842, -81...   5  "
      ]
     },
     "execution_count": 4,
     "metadata": {},
     "output_type": "execute_result"
    }
   ],
   "source": [
    "inter.head()"
   ]
  },
  {
   "cell_type": "code",
   "execution_count": 5,
   "id": "94e9da8a-958a-4d80-9c3e-bd9bbf7f6713",
   "metadata": {},
   "outputs": [],
   "source": [
    "inter.to_file(\"data/ciudades_interseccion.gpkg\", driver='GPKG')"
   ]
  },
  {
   "cell_type": "markdown",
   "id": "14daf4e8-e046-4b67-864d-228c14d65611",
   "metadata": {},
   "source": [
    "Ahora vamos a obtener el total de población por manzana."
   ]
  },
  {
   "cell_type": "code",
   "execution_count": 6,
   "id": "1b26ee76-b3fc-47c1-9eb1-6eed9d124149",
   "metadata": {},
   "outputs": [],
   "source": [
    "gdf=gpd.read_file('C:/Users/rojas/OneDrive/OneDrive - EduCorpPERU/Datos/vectores/base/Manzanas Perú (INEI)/mz-principalesciudades-edit_WGS84.gpkg')\n",
    "pob=pd.read_excel('C:/Users/rojas/OneDrive/OneDrive - EduCorpPERU/Datos/tablas/Personas x manzana - INEI.xlsx')\n",
    "\n",
    "gdf=gdf.to_crs('EPSG:3857')"
   ]
  },
  {
   "cell_type": "markdown",
   "id": "bad85efd-18a8-4d96-9dd6-2b0e0b99a6bc",
   "metadata": {},
   "source": [
    "Cambiamos los nombres de las columnas para que coincidan"
   ]
  },
  {
   "cell_type": "code",
   "execution_count": 7,
   "id": "b985a413-85d2-4ab0-b725-2793fa3747b7",
   "metadata": {},
   "outputs": [],
   "source": [
    "gdf = gdf.rename(columns={'Mz_Edit':'Mz'})\n",
    "pob = pob.rename(columns={'Cod':'Mz'})"
   ]
  },
  {
   "cell_type": "markdown",
   "id": "c00fde1d-9c8d-4aaf-a2f6-08e6dd2b1ee8",
   "metadata": {},
   "source": [
    "Unimos el gdf con los datos de población por manzana y lo convertimos en centroides para que pese menos el archivo."
   ]
  },
  {
   "cell_type": "code",
   "execution_count": 8,
   "id": "b2b474dc-86de-4ec9-9de4-11b253bf776c",
   "metadata": {},
   "outputs": [
    {
     "data": {
      "text/html": [
       "<div>\n",
       "<style scoped>\n",
       "    .dataframe tbody tr th:only-of-type {\n",
       "        vertical-align: middle;\n",
       "    }\n",
       "\n",
       "    .dataframe tbody tr th {\n",
       "        vertical-align: top;\n",
       "    }\n",
       "\n",
       "    .dataframe thead th {\n",
       "        text-align: right;\n",
       "    }\n",
       "</style>\n",
       "<table border=\"1\" class=\"dataframe\">\n",
       "  <thead>\n",
       "    <tr style=\"text-align: right;\">\n",
       "      <th></th>\n",
       "      <th>geometry</th>\n",
       "      <th>index_right</th>\n",
       "      <th>Mz_Original</th>\n",
       "      <th>Mz</th>\n",
       "      <th>CIUDAD</th>\n",
       "      <th>UBIGEO</th>\n",
       "      <th>CODPROV</th>\n",
       "      <th>CODDPTO</th>\n",
       "      <th>NOMBDIST</th>\n",
       "      <th>NOMBPROV</th>\n",
       "      <th>NOMBDPTO</th>\n",
       "      <th>Población</th>\n",
       "    </tr>\n",
       "  </thead>\n",
       "  <tbody>\n",
       "    <tr>\n",
       "      <th>0</th>\n",
       "      <td>POINT (-8669524.377 -693808.991)</td>\n",
       "      <td>NaN</td>\n",
       "      <td>NaN</td>\n",
       "      <td>NaN</td>\n",
       "      <td>NaN</td>\n",
       "      <td>NaN</td>\n",
       "      <td>NaN</td>\n",
       "      <td>NaN</td>\n",
       "      <td>NaN</td>\n",
       "      <td>NaN</td>\n",
       "      <td>NaN</td>\n",
       "      <td>NaN</td>\n",
       "    </tr>\n",
       "    <tr>\n",
       "      <th>1</th>\n",
       "      <td>POINT (-8669371.073 -694019.822)</td>\n",
       "      <td>1.0</td>\n",
       "      <td>01010100100001K</td>\n",
       "      <td>010101000100100001K</td>\n",
       "      <td>CHACHAPOYAS</td>\n",
       "      <td>010101</td>\n",
       "      <td>01</td>\n",
       "      <td>01</td>\n",
       "      <td>CHACHAPOYAS</td>\n",
       "      <td>CHACHAPOYAS</td>\n",
       "      <td>AMAZONAS</td>\n",
       "      <td>70.0</td>\n",
       "    </tr>\n",
       "    <tr>\n",
       "      <th>2</th>\n",
       "      <td>POINT (-8669378.964 -694067.903)</td>\n",
       "      <td>2.0</td>\n",
       "      <td>01010100100001L</td>\n",
       "      <td>010101000100100001L</td>\n",
       "      <td>CHACHAPOYAS</td>\n",
       "      <td>010101</td>\n",
       "      <td>01</td>\n",
       "      <td>01</td>\n",
       "      <td>CHACHAPOYAS</td>\n",
       "      <td>CHACHAPOYAS</td>\n",
       "      <td>AMAZONAS</td>\n",
       "      <td>62.0</td>\n",
       "    </tr>\n",
       "    <tr>\n",
       "      <th>3</th>\n",
       "      <td>POINT (-8669350.380 -694165.716)</td>\n",
       "      <td>3.0</td>\n",
       "      <td>01010100100002D</td>\n",
       "      <td>010101000100100002D</td>\n",
       "      <td>CHACHAPOYAS</td>\n",
       "      <td>010101</td>\n",
       "      <td>01</td>\n",
       "      <td>01</td>\n",
       "      <td>CHACHAPOYAS</td>\n",
       "      <td>CHACHAPOYAS</td>\n",
       "      <td>AMAZONAS</td>\n",
       "      <td>42.0</td>\n",
       "    </tr>\n",
       "    <tr>\n",
       "      <th>4</th>\n",
       "      <td>POINT (-8669293.824 -694264.816)</td>\n",
       "      <td>4.0</td>\n",
       "      <td>01010100100003B</td>\n",
       "      <td>010101000100100003B</td>\n",
       "      <td>CHACHAPOYAS</td>\n",
       "      <td>010101</td>\n",
       "      <td>01</td>\n",
       "      <td>01</td>\n",
       "      <td>CHACHAPOYAS</td>\n",
       "      <td>CHACHAPOYAS</td>\n",
       "      <td>AMAZONAS</td>\n",
       "      <td>70.0</td>\n",
       "    </tr>\n",
       "  </tbody>\n",
       "</table>\n",
       "</div>"
      ],
      "text/plain": [
       "                           geometry  index_right      Mz_Original  \\\n",
       "0  POINT (-8669524.377 -693808.991)          NaN              NaN   \n",
       "1  POINT (-8669371.073 -694019.822)          1.0  01010100100001K   \n",
       "2  POINT (-8669378.964 -694067.903)          2.0  01010100100001L   \n",
       "3  POINT (-8669350.380 -694165.716)          3.0  01010100100002D   \n",
       "4  POINT (-8669293.824 -694264.816)          4.0  01010100100003B   \n",
       "\n",
       "                    Mz       CIUDAD  UBIGEO CODPROV CODDPTO     NOMBDIST  \\\n",
       "0                  NaN          NaN     NaN     NaN     NaN          NaN   \n",
       "1  010101000100100001K  CHACHAPOYAS  010101      01      01  CHACHAPOYAS   \n",
       "2  010101000100100001L  CHACHAPOYAS  010101      01      01  CHACHAPOYAS   \n",
       "3  010101000100100002D  CHACHAPOYAS  010101      01      01  CHACHAPOYAS   \n",
       "4  010101000100100003B  CHACHAPOYAS  010101      01      01  CHACHAPOYAS   \n",
       "\n",
       "      NOMBPROV  NOMBDPTO  Población  \n",
       "0          NaN       NaN        NaN  \n",
       "1  CHACHAPOYAS  AMAZONAS       70.0  \n",
       "2  CHACHAPOYAS  AMAZONAS       62.0  \n",
       "3  CHACHAPOYAS  AMAZONAS       42.0  \n",
       "4  CHACHAPOYAS  AMAZONAS       70.0  "
      ]
     },
     "execution_count": 8,
     "metadata": {},
     "output_type": "execute_result"
    }
   ],
   "source": [
    "#1.1. Hacemos el merge\n",
    "gdf = gdf.merge(pob, on='Mz')\n",
    "\n",
    "#1.2. Convertimos el gdf de manzanas en centroides\n",
    "centros=gpd.GeoDataFrame(gdf.centroid)\n",
    "centros.rename(columns={0:'geometry'}, \n",
    "                inplace=True)                      #para setear el CRS es necesario que la única columna que tiene\n",
    "                                                   #se llame 'geometry'\n",
    "    \n",
    "centros=centros.set_crs('EPSG:3857')              #para que tenga el mismo CRS que el gdf al que se unirá\n",
    "\n",
    "#1.3. Ahora los centros deben 'absorber' los datos de su gdf original\n",
    "mz = gpd.sjoin(centros, gdf, how=\"left\")\n",
    "mz.head()"
   ]
  },
  {
   "cell_type": "markdown",
   "id": "f9d1f218-c284-489b-bc45-55374eb74351",
   "metadata": {},
   "source": [
    "Nos quedamos con las columnas que nos interesan."
   ]
  },
  {
   "cell_type": "code",
   "execution_count": 9,
   "id": "056101d8",
   "metadata": {},
   "outputs": [],
   "source": [
    "mz=mz[['geometry','Mz','UBIGEO','Población']]"
   ]
  },
  {
   "cell_type": "markdown",
   "id": "46d83352-c7b8-4f29-932a-bb98038c6e0a",
   "metadata": {},
   "source": [
    "Hacemos el spatial join de los centroides de las manzanas (que tienen info de población) con las manchas urbanas distribuidas por 'pedacitos' (la intersección del inicio)."
   ]
  },
  {
   "cell_type": "code",
   "execution_count": 10,
   "id": "ba7c0a74",
   "metadata": {
    "scrolled": true
   },
   "outputs": [
    {
     "name": "stderr",
     "output_type": "stream",
     "text": [
      "C:\\Users\\rojas\\miniconda3\\envs\\MiEntorno\\lib\\site-packages\\IPython\\core\\interactiveshell.py:3377: FutureWarning: The `op` parameter is deprecated and will be removed in a future release. Please use the `predicate` parameter instead.\n",
      "  if (await self.run_code(code, result,  async_=asy)):\n"
     ]
    },
    {
     "data": {
      "text/html": [
       "<div>\n",
       "<style scoped>\n",
       "    .dataframe tbody tr th:only-of-type {\n",
       "        vertical-align: middle;\n",
       "    }\n",
       "\n",
       "    .dataframe tbody tr th {\n",
       "        vertical-align: top;\n",
       "    }\n",
       "\n",
       "    .dataframe thead th {\n",
       "        text-align: right;\n",
       "    }\n",
       "</style>\n",
       "<table border=\"1\" class=\"dataframe\">\n",
       "  <thead>\n",
       "    <tr style=\"text-align: right;\">\n",
       "      <th></th>\n",
       "      <th>geometry</th>\n",
       "      <th>Mz</th>\n",
       "      <th>UBIGEO</th>\n",
       "      <th>Población</th>\n",
       "      <th>index_right</th>\n",
       "      <th>CIUDAD</th>\n",
       "      <th>NOMBDIST</th>\n",
       "      <th>CODUBIGEO</th>\n",
       "      <th>IDPROV</th>\n",
       "      <th>NOMBPROV</th>\n",
       "      <th>ID</th>\n",
       "    </tr>\n",
       "  </thead>\n",
       "  <tbody>\n",
       "    <tr>\n",
       "      <th>0</th>\n",
       "      <td>POINT (-8669524.377 -693808.991)</td>\n",
       "      <td>NaN</td>\n",
       "      <td>NaN</td>\n",
       "      <td>NaN</td>\n",
       "      <td>NaN</td>\n",
       "      <td>NaN</td>\n",
       "      <td>NaN</td>\n",
       "      <td>NaN</td>\n",
       "      <td>NaN</td>\n",
       "      <td>NaN</td>\n",
       "      <td>NaN</td>\n",
       "    </tr>\n",
       "    <tr>\n",
       "      <th>1</th>\n",
       "      <td>POINT (-8669371.073 -694019.822)</td>\n",
       "      <td>010101000100100001K</td>\n",
       "      <td>010101</td>\n",
       "      <td>70.0</td>\n",
       "      <td>47.0</td>\n",
       "      <td>CHACHAPOYAS</td>\n",
       "      <td>CHACHAPOYAS</td>\n",
       "      <td>10101.0</td>\n",
       "      <td>0101</td>\n",
       "      <td>CHACHAPOYAS</td>\n",
       "      <td>48.0</td>\n",
       "    </tr>\n",
       "    <tr>\n",
       "      <th>2</th>\n",
       "      <td>POINT (-8669378.964 -694067.903)</td>\n",
       "      <td>010101000100100001L</td>\n",
       "      <td>010101</td>\n",
       "      <td>62.0</td>\n",
       "      <td>47.0</td>\n",
       "      <td>CHACHAPOYAS</td>\n",
       "      <td>CHACHAPOYAS</td>\n",
       "      <td>10101.0</td>\n",
       "      <td>0101</td>\n",
       "      <td>CHACHAPOYAS</td>\n",
       "      <td>48.0</td>\n",
       "    </tr>\n",
       "    <tr>\n",
       "      <th>3</th>\n",
       "      <td>POINT (-8669350.380 -694165.716)</td>\n",
       "      <td>010101000100100002D</td>\n",
       "      <td>010101</td>\n",
       "      <td>42.0</td>\n",
       "      <td>47.0</td>\n",
       "      <td>CHACHAPOYAS</td>\n",
       "      <td>CHACHAPOYAS</td>\n",
       "      <td>10101.0</td>\n",
       "      <td>0101</td>\n",
       "      <td>CHACHAPOYAS</td>\n",
       "      <td>48.0</td>\n",
       "    </tr>\n",
       "    <tr>\n",
       "      <th>4</th>\n",
       "      <td>POINT (-8669293.824 -694264.816)</td>\n",
       "      <td>010101000100100003B</td>\n",
       "      <td>010101</td>\n",
       "      <td>70.0</td>\n",
       "      <td>47.0</td>\n",
       "      <td>CHACHAPOYAS</td>\n",
       "      <td>CHACHAPOYAS</td>\n",
       "      <td>10101.0</td>\n",
       "      <td>0101</td>\n",
       "      <td>CHACHAPOYAS</td>\n",
       "      <td>48.0</td>\n",
       "    </tr>\n",
       "  </tbody>\n",
       "</table>\n",
       "</div>"
      ],
      "text/plain": [
       "                           geometry                   Mz  UBIGEO  Población  \\\n",
       "0  POINT (-8669524.377 -693808.991)                  NaN     NaN        NaN   \n",
       "1  POINT (-8669371.073 -694019.822)  010101000100100001K  010101       70.0   \n",
       "2  POINT (-8669378.964 -694067.903)  010101000100100001L  010101       62.0   \n",
       "3  POINT (-8669350.380 -694165.716)  010101000100100002D  010101       42.0   \n",
       "4  POINT (-8669293.824 -694264.816)  010101000100100003B  010101       70.0   \n",
       "\n",
       "   index_right       CIUDAD     NOMBDIST  CODUBIGEO IDPROV     NOMBPROV    ID  \n",
       "0          NaN          NaN          NaN        NaN    NaN          NaN   NaN  \n",
       "1         47.0  CHACHAPOYAS  CHACHAPOYAS    10101.0   0101  CHACHAPOYAS  48.0  \n",
       "2         47.0  CHACHAPOYAS  CHACHAPOYAS    10101.0   0101  CHACHAPOYAS  48.0  \n",
       "3         47.0  CHACHAPOYAS  CHACHAPOYAS    10101.0   0101  CHACHAPOYAS  48.0  \n",
       "4         47.0  CHACHAPOYAS  CHACHAPOYAS    10101.0   0101  CHACHAPOYAS  48.0  "
      ]
     },
     "execution_count": 10,
     "metadata": {},
     "output_type": "execute_result"
    }
   ],
   "source": [
    "intento1=gpd.sjoin(mz,inter,how=\"left\", op=\"within\")   #por defecto, 'sjoin' utiliza la opción 'intersect'\n",
    "                                                         #sin embargo, al usar 'within' los resultados pueden ser hasta\n",
    "                                                         #10 veces más rápido\n",
    "intento1.head()"
   ]
  },
  {
   "cell_type": "code",
   "execution_count": 11,
   "id": "11f0849b",
   "metadata": {},
   "outputs": [
    {
     "data": {
      "text/plain": [
       "116375"
      ]
     },
     "execution_count": 11,
     "metadata": {},
     "output_type": "execute_result"
    }
   ],
   "source": [
    "len(intento1)"
   ]
  },
  {
   "cell_type": "code",
   "execution_count": 12,
   "id": "d67ce305",
   "metadata": {
    "scrolled": true
   },
   "outputs": [
    {
     "data": {
      "text/html": [
       "<div>\n",
       "<style scoped>\n",
       "    .dataframe tbody tr th:only-of-type {\n",
       "        vertical-align: middle;\n",
       "    }\n",
       "\n",
       "    .dataframe tbody tr th {\n",
       "        vertical-align: top;\n",
       "    }\n",
       "\n",
       "    .dataframe thead th {\n",
       "        text-align: right;\n",
       "    }\n",
       "</style>\n",
       "<table border=\"1\" class=\"dataframe\">\n",
       "  <thead>\n",
       "    <tr style=\"text-align: right;\">\n",
       "      <th></th>\n",
       "      <th>geometry</th>\n",
       "      <th>Mz</th>\n",
       "      <th>UBIGEO</th>\n",
       "      <th>Población</th>\n",
       "      <th>index_right</th>\n",
       "      <th>CIUDAD</th>\n",
       "      <th>NOMBDIST</th>\n",
       "      <th>CODUBIGEO</th>\n",
       "      <th>IDPROV</th>\n",
       "      <th>NOMBPROV</th>\n",
       "      <th>ID</th>\n",
       "    </tr>\n",
       "  </thead>\n",
       "  <tbody>\n",
       "    <tr>\n",
       "      <th>1</th>\n",
       "      <td>POINT (-8669371.073 -694019.822)</td>\n",
       "      <td>010101000100100001K</td>\n",
       "      <td>010101</td>\n",
       "      <td>70.0</td>\n",
       "      <td>47.0</td>\n",
       "      <td>CHACHAPOYAS</td>\n",
       "      <td>CHACHAPOYAS</td>\n",
       "      <td>10101.0</td>\n",
       "      <td>0101</td>\n",
       "      <td>CHACHAPOYAS</td>\n",
       "      <td>48.0</td>\n",
       "    </tr>\n",
       "    <tr>\n",
       "      <th>2</th>\n",
       "      <td>POINT (-8669378.964 -694067.903)</td>\n",
       "      <td>010101000100100001L</td>\n",
       "      <td>010101</td>\n",
       "      <td>62.0</td>\n",
       "      <td>47.0</td>\n",
       "      <td>CHACHAPOYAS</td>\n",
       "      <td>CHACHAPOYAS</td>\n",
       "      <td>10101.0</td>\n",
       "      <td>0101</td>\n",
       "      <td>CHACHAPOYAS</td>\n",
       "      <td>48.0</td>\n",
       "    </tr>\n",
       "    <tr>\n",
       "      <th>3</th>\n",
       "      <td>POINT (-8669350.380 -694165.716)</td>\n",
       "      <td>010101000100100002D</td>\n",
       "      <td>010101</td>\n",
       "      <td>42.0</td>\n",
       "      <td>47.0</td>\n",
       "      <td>CHACHAPOYAS</td>\n",
       "      <td>CHACHAPOYAS</td>\n",
       "      <td>10101.0</td>\n",
       "      <td>0101</td>\n",
       "      <td>CHACHAPOYAS</td>\n",
       "      <td>48.0</td>\n",
       "    </tr>\n",
       "    <tr>\n",
       "      <th>4</th>\n",
       "      <td>POINT (-8669293.824 -694264.816)</td>\n",
       "      <td>010101000100100003B</td>\n",
       "      <td>010101</td>\n",
       "      <td>70.0</td>\n",
       "      <td>47.0</td>\n",
       "      <td>CHACHAPOYAS</td>\n",
       "      <td>CHACHAPOYAS</td>\n",
       "      <td>10101.0</td>\n",
       "      <td>0101</td>\n",
       "      <td>CHACHAPOYAS</td>\n",
       "      <td>48.0</td>\n",
       "    </tr>\n",
       "    <tr>\n",
       "      <th>5</th>\n",
       "      <td>POINT (-8669341.131 -694221.467)</td>\n",
       "      <td>010101000100100005</td>\n",
       "      <td>010101</td>\n",
       "      <td>45.0</td>\n",
       "      <td>47.0</td>\n",
       "      <td>CHACHAPOYAS</td>\n",
       "      <td>CHACHAPOYAS</td>\n",
       "      <td>10101.0</td>\n",
       "      <td>0101</td>\n",
       "      <td>CHACHAPOYAS</td>\n",
       "      <td>48.0</td>\n",
       "    </tr>\n",
       "  </tbody>\n",
       "</table>\n",
       "</div>"
      ],
      "text/plain": [
       "                           geometry                   Mz  UBIGEO  Población  \\\n",
       "1  POINT (-8669371.073 -694019.822)  010101000100100001K  010101       70.0   \n",
       "2  POINT (-8669378.964 -694067.903)  010101000100100001L  010101       62.0   \n",
       "3  POINT (-8669350.380 -694165.716)  010101000100100002D  010101       42.0   \n",
       "4  POINT (-8669293.824 -694264.816)  010101000100100003B  010101       70.0   \n",
       "5  POINT (-8669341.131 -694221.467)   010101000100100005  010101       45.0   \n",
       "\n",
       "   index_right       CIUDAD     NOMBDIST  CODUBIGEO IDPROV     NOMBPROV    ID  \n",
       "1         47.0  CHACHAPOYAS  CHACHAPOYAS    10101.0   0101  CHACHAPOYAS  48.0  \n",
       "2         47.0  CHACHAPOYAS  CHACHAPOYAS    10101.0   0101  CHACHAPOYAS  48.0  \n",
       "3         47.0  CHACHAPOYAS  CHACHAPOYAS    10101.0   0101  CHACHAPOYAS  48.0  \n",
       "4         47.0  CHACHAPOYAS  CHACHAPOYAS    10101.0   0101  CHACHAPOYAS  48.0  \n",
       "5         47.0  CHACHAPOYAS  CHACHAPOYAS    10101.0   0101  CHACHAPOYAS  48.0  "
      ]
     },
     "execution_count": 12,
     "metadata": {},
     "output_type": "execute_result"
    }
   ],
   "source": [
    "#3.Filtramos solo aquellas columnas que estén dentro de las manchas urbanas de las ciudades principales\n",
    "filtro=intento1['ID']>=0\n",
    "intento2 = intento1[filtro]\n",
    "\n",
    "intento2.to_file(\"data/ciudades_pob.geojson\", driver='GeoJSON') \n",
    "#Por algún motivo, al guardarlo como geopackage, se creaban dos capas, y una de ellas omitía a las ciudades\n",
    "#de Ayacucho, Chancay, Huanta y Huaral.\n",
    "\n",
    "intento2.head()"
   ]
  },
  {
   "cell_type": "code",
   "execution_count": 13,
   "id": "c6c2ca8b",
   "metadata": {},
   "outputs": [
    {
     "data": {
      "text/plain": [
       "116323"
      ]
     },
     "execution_count": 13,
     "metadata": {},
     "output_type": "execute_result"
    }
   ],
   "source": [
    "len(intento2)"
   ]
  }
 ],
 "metadata": {
  "kernelspec": {
   "display_name": "Python 3 (ipykernel)",
   "language": "python",
   "name": "python3"
  },
  "language_info": {
   "codemirror_mode": {
    "name": "ipython",
    "version": 3
   },
   "file_extension": ".py",
   "mimetype": "text/x-python",
   "name": "python",
   "nbconvert_exporter": "python",
   "pygments_lexer": "ipython3",
   "version": "3.10.9"
  }
 },
 "nbformat": 4,
 "nbformat_minor": 5
}
